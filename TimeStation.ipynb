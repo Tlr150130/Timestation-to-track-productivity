{
  "nbformat": 4,
  "nbformat_minor": 0,
  "metadata": {
    "colab": {
      "name": "TimeStation.ipynb",
      "provenance": [],
      "collapsed_sections": []
    },
    "kernelspec": {
      "name": "python3",
      "display_name": "Python 3"
    }
  },
  "cells": [
    {
      "cell_type": "markdown",
      "metadata": {
        "id": "1uYRGhKND10t"
      },
      "source": [
        "#Timestation Application"
      ]
    },
    {
      "cell_type": "markdown",
      "metadata": {
        "id": "I42F5dSY7lGT"
      },
      "source": [
        "I wished to create a timestation log, so I could keep track of my productivity. I would be able to perform subsequent data analysis once sufficient data is generated. I could use this data to optimize on my most productive hours and see where I tend to be unproductive."
      ]
    },
    {
      "cell_type": "markdown",
      "metadata": {
        "id": "Rt_YipAy7iGp"
      },
      "source": [
        "Libraries Used"
      ]
    },
    {
      "cell_type": "code",
      "metadata": {
        "id": "JSLeXrA_ELZU"
      },
      "source": [
        "#Library\n",
        "import pandas as pd\n",
        "from datetime import datetime, date\n",
        "from pytz import timezone\n",
        "import os.path\n",
        "from os import path"
      ],
      "execution_count": 14,
      "outputs": []
    },
    {
      "cell_type": "markdown",
      "metadata": {
        "id": "ohcqJcpb7aEI"
      },
      "source": [
        "Creation of the timestation class that logs the date, time in, time out, and the duration of work."
      ]
    },
    {
      "cell_type": "code",
      "metadata": {
        "id": "yQatuRK-q3-F"
      },
      "source": [
        "#Timestation class\n",
        "class Timestation:\n",
        "  def __init__(self, SignInSheet, here):\n",
        "    self.texas_timezone = timezone(\"US/Central\")\n",
        "    self.temp_data = SignInSheet\n",
        "    self.here = here\n",
        "    self.Time_In = 0\n",
        "    self.date = 0\n",
        "    self.Time_out = 0\n",
        "    self.Hours = 0\n",
        "    self.line = 0\n",
        "    self.now = 0\n",
        "    self.end = 0\n",
        "\n",
        "  def Sign_In(self):\n",
        "    self.now = datetime.now(texas)\n",
        "    self.Time_In = self.now.strftime(\"%H:%M:%S\")\n",
        "    my_date = datetime.now(texas)\n",
        "    self.date = datetime.strftime(my_date, \"%Y-%m-%d\")\n",
        "\n",
        "  def Sign_Out(self):\n",
        "    self.end = datetime.now(texas)\n",
        "    self.Time_Out = self.end.strftime(\"%H:%M:%S\")\n",
        "    difference = self.end - self.now\n",
        "    self.Hours = difference.total_seconds() / 3600\n",
        "\n",
        "    if (self.here == False): #create a new timestation file\n",
        "      self.temp_data = pd.DataFrame(data = {'Date': [self.date], 'Time In': [self.Time_In], 'Time Out': [self.Time_Out], 'Hours': [self.Hours]})\n",
        "      print(\"A new timestation log has been created.\")\n",
        "\n",
        "    else:#Add the new line to the csv file\n",
        "      line = pd.DataFrame(data = {'Date': [self.date], 'Time In': [self.Time_In], 'Time Out': [self.Time_Out], 'Hours': [self.Hours]})\n",
        "      self.temp_data = self.temp_data.append(line)\n",
        "      print(\"Timestation log has been updated.\")\n",
        "\n",
        "    #write the timestation log to drive\n",
        "    self.temp_data.to_csv ('/content/sample_data/timestation_log.csv', index = False, header=True) #replace path\n",
        "\n",
        "\n"
      ],
      "execution_count": 70,
      "outputs": []
    },
    {
      "cell_type": "markdown",
      "metadata": {
        "id": "GQESxMna7KAA"
      },
      "source": [
        "Main function that checks to see if there is already a timestation log created. If one has been made, the log is read."
      ]
    },
    {
      "cell_type": "code",
      "metadata": {
        "id": "JSb_Xa20J7_b"
      },
      "source": [
        "#Main\n",
        "SignInSheet = False\n",
        "here = False\n",
        "\n",
        "#Test to see if file exists; replace the log path with your own\n",
        "if (path.exists('/content/sample_data/timestation_log.csv') == True):\n",
        "  SignInSheet = pd.read_csv ('/content/sample_data/timestation_log.csv')\n",
        "  here = True\n",
        "\n",
        "Meli = Timestation(SignInSheet, here)\n",
        "Meli.Sign_In()\n",
        "Meli.Sign_Out()\n"
      ],
      "execution_count": null,
      "outputs": []
    },
    {
      "cell_type": "markdown",
      "metadata": {
        "id": "aB_OiI6B7ENm"
      },
      "source": [
        "This can be further developed by creating a GUI interface using Tkinter."
      ]
    }
  ]
}